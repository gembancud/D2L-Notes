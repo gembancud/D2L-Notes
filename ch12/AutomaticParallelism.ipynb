{
 "cells": [
  {
   "cell_type": "markdown",
   "metadata": {},
   "source": [
    "# Automatic Parallelism"
   ]
  },
  {
   "cell_type": "code",
   "execution_count": 1,
   "metadata": {},
   "outputs": [],
   "source": [
    "import torch\r\n",
    "from d2l import torch as d2l"
   ]
  },
  {
   "cell_type": "markdown",
   "metadata": {},
   "source": [
    "## Parallel Computation on GPUs"
   ]
  },
  {
   "cell_type": "code",
   "execution_count": 2,
   "metadata": {},
   "outputs": [],
   "source": [
    "devices = d2l.try_all_gpus()\r\n",
    "\r\n",
    "def run(x):\r\n",
    "    return [x.mm(x) for _ in range(50)]\r\n",
    "\r\n",
    "x_gpu1 = torch.rand(size=(4000, 4000), device=devices[0])"
   ]
  },
  {
   "cell_type": "markdown",
   "metadata": {},
   "source": [
    "## Parallel Computation and Communication"
   ]
  },
  {
   "cell_type": "code",
   "execution_count": 3,
   "metadata": {},
   "outputs": [
    {
     "name": "stdout",
     "output_type": "stream",
     "text": [
      "Run on GPU1: 2.2960 sec\n",
      "Copy to CPU: 1.3110 sec\n"
     ]
    }
   ],
   "source": [
    "def copy_to_cpu(x, non_blocking=False):\r\n",
    "    return [y.to('cpu', non_blocking=non_blocking) for y in x]\r\n",
    "\r\n",
    "with d2l.Benchmark('Run on GPU1'):\r\n",
    "    y = run(x_gpu1)\r\n",
    "    torch.cuda.synchronize()\r\n",
    "\r\n",
    "with d2l.Benchmark('Copy to CPU'):\r\n",
    "    y_cpu = copy_to_cpu(y)\r\n",
    "    torch.cuda.synchronize()"
   ]
  },
  {
   "cell_type": "code",
   "execution_count": null,
   "metadata": {},
   "outputs": [],
   "source": []
  }
 ],
 "metadata": {
  "kernelspec": {
   "display_name": "classicalML",
   "name": "classicalml"
  },
  "language_info": {
   "codemirror_mode": {
    "name": "ipython",
    "version": 3
   },
   "file_extension": ".py",
   "mimetype": "text/x-python",
   "name": "python",
   "nbconvert_exporter": "python",
   "pygments_lexer": "ipython3",
   "version": "3.8.2"
  },
  "orig_nbformat": 2
 },
 "nbformat": 4,
 "nbformat_minor": 2
}