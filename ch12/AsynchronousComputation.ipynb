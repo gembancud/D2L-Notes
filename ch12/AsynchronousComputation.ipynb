{
 "cells": [
  {
   "cell_type": "markdown",
   "metadata": {},
   "source": [
    "# Asynchronous Computation"
   ]
  },
  {
   "cell_type": "code",
   "execution_count": 1,
   "metadata": {},
   "outputs": [],
   "source": [
    "import os\r\n",
    "import subprocess\r\n",
    "import numpy\r\n",
    "import torch\r\n",
    "from torch import nn\r\n",
    "from d2l import torch as d2l"
   ]
  },
  {
   "cell_type": "markdown",
   "metadata": {},
   "source": [
    "## Asynchrony via Backend"
   ]
  },
  {
   "cell_type": "code",
   "execution_count": 2,
   "metadata": {},
   "outputs": [
    {
     "name": "stdout",
     "output_type": "stream",
     "text": [
      "numpy: 0.7070 sec\n",
      "torch: 0.0020 sec\n"
     ]
    }
   ],
   "source": [
    "# Warmup for GPU computation\r\n",
    "device = d2l.try_gpu()\r\n",
    "a = torch.randn(size=(1000, 1000), device=device)\r\n",
    "b = torch.mm(a, a)\r\n",
    "\r\n",
    "with d2l.Benchmark('numpy'):\r\n",
    "    for _ in range(10):\r\n",
    "        a = numpy.random.normal(size=(1000, 1000))\r\n",
    "        b = numpy.dot(a, a)\r\n",
    "\r\n",
    "with d2l.Benchmark('torch'):\r\n",
    "    for _ in range(10):\r\n",
    "        a = torch.randn(size=(1000, 1000), device=device)\r\n",
    "        b = torch.mm(a, a)"
   ]
  },
  {
   "cell_type": "code",
   "execution_count": 3,
   "metadata": {},
   "outputs": [
    {
     "name": "stdout",
     "output_type": "stream",
     "text": [
      "Done: 0.0130 sec\n"
     ]
    }
   ],
   "source": [
    "with d2l.Benchmark():\r\n",
    "    for _ in range(10):\r\n",
    "        a = torch.randn(size=(1000, 1000), device=device)\r\n",
    "        b = torch.mm(a, a)\r\n",
    "    torch.cuda.synchronize(device)"
   ]
  },
  {
   "cell_type": "code",
   "execution_count": 4,
   "metadata": {},
   "outputs": [
    {
     "data": {
      "text/plain": "tensor([[3., 3.]], device='cuda:0')"
     },
     "execution_count": 4,
     "metadata": {},
     "output_type": "execute_result"
    }
   ],
   "source": [
    "x = torch.ones((1, 2), device=device)\r\n",
    "y = torch.ones((1, 2), device=device)\r\n",
    "z = x * y + 2\r\n",
    "z"
   ]
  },
  {
   "cell_type": "code",
   "execution_count": null,
   "metadata": {},
   "outputs": [],
   "source": []
  }
 ],
 "metadata": {
  "kernelspec": {
   "display_name": "Python 3.8.2 64-bit ('venv': venv)",
   "language": "python",
   "name": "python382jvsc74a57bd0fd6d8b48720ee3455ab3ec1a10ac8371a015782a63fd20fa01169a0d41652e74"
  },
  "language_info": {
   "codemirror_mode": {
    "name": "ipython",
    "version": 3
   },
   "file_extension": ".py",
   "mimetype": "text/x-python",
   "name": "python",
   "nbconvert_exporter": "python",
   "pygments_lexer": "ipython3",
   "version": "3.8.2"
  },
  "orig_nbformat": 2
 },
 "nbformat": 4,
 "nbformat_minor": 2
}