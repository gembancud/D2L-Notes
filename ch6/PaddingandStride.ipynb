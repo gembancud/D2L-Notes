{
 "cells": [
  {
   "cell_type": "markdown",
   "metadata": {},
   "source": [
    "# Padding and Stride"
   ]
  },
  {
   "cell_type": "markdown",
   "metadata": {},
   "source": [
    "## Padding"
   ]
  },
  {
   "cell_type": "code",
   "execution_count": 1,
   "metadata": {},
   "outputs": [
    {
     "data": {
      "text/plain": "torch.Size([8, 8])"
     },
     "execution_count": 1,
     "metadata": {},
     "output_type": "execute_result"
    }
   ],
   "source": [
    "import torch\r\n",
    "from torch import nn\r\n",
    "\r\n",
    "# We define a convenience function to calculate the convolutional layer. This\r\n",
    "# function initializes the convolutional layer weights and performs\r\n",
    "# corresponding dimensionality elevations and reductions on the input and\r\n",
    "# output\r\n",
    "def comp_conv2d(conv2d, X):\r\n",
    "    # Here (1, 1) indicates that the batch size and the number of channels\r\n",
    "    # are both 1\r\n",
    "    X = X.reshape((1, 1) + X.shape)\r\n",
    "    Y = conv2d(X)\r\n",
    "    # Exclude the first two dimensions that do not interest us: examples and\r\n",
    "    # channels\r\n",
    "    return Y.reshape(Y.shape[2:])\r\n",
    "\r\n",
    "# Note that here 1 row or column is padded on either side, so a total of 2\r\n",
    "# rows or columns are added\r\n",
    "conv2d = nn.Conv2d(1, 1, kernel_size=3, padding=1)\r\n",
    "X = torch.rand(size=(8, 8))\r\n",
    "comp_conv2d(conv2d, X).shape"
   ]
  },
  {
   "cell_type": "code",
   "execution_count": 8,
   "metadata": {},
   "outputs": [
    {
     "data": {
      "text/plain": "torch.Size([8, 8])"
     },
     "execution_count": 8,
     "metadata": {},
     "output_type": "execute_result"
    }
   ],
   "source": [
    "conv2d = nn.Conv2d(1,1, kernel_size=(5,3),padding=(2,1))\r\n",
    "comp_conv2d(conv2d,X).shape"
   ]
  },
  {
   "cell_type": "markdown",
   "metadata": {},
   "source": [
    "## Stride"
   ]
  },
  {
   "cell_type": "code",
   "execution_count": 9,
   "metadata": {},
   "outputs": [
    {
     "data": {
      "text/plain": "torch.Size([4, 4])"
     },
     "execution_count": 9,
     "metadata": {},
     "output_type": "execute_result"
    }
   ],
   "source": [
    "conv2d = nn.Conv2d(1,1, kernel_size=(3,3), padding=1, stride=2)\r\n",
    "comp_conv2d(conv2d,X).shape"
   ]
  },
  {
   "cell_type": "code",
   "execution_count": 10,
   "metadata": {},
   "outputs": [
    {
     "data": {
      "text/plain": "torch.Size([2, 2])"
     },
     "execution_count": 10,
     "metadata": {},
     "output_type": "execute_result"
    }
   ],
   "source": [
    "conv2d = nn.Conv2d(1, 1, kernel_size=(3, 5), padding=(0, 1), stride=(3, 4))\r\n",
    "comp_conv2d(conv2d, X).shape"
   ]
  },
  {
   "cell_type": "code",
   "execution_count": null,
   "metadata": {},
   "outputs": [],
   "source": []
  }
 ],
 "metadata": {
  "kernelspec": {
   "display_name": "Python 3.8.2  ('venv': venv)",
   "name": "pythonjvsc74a57bd0fd6d8b48720ee3455ab3ec1a10ac8371a015782a63fd20fa01169a0d41652e74"
  },
  "language_info": {
   "codemirror_mode": {
    "name": "ipython",
    "version": 3
   },
   "file_extension": ".py",
   "mimetype": "text/x-python",
   "name": "python",
   "nbconvert_exporter": "python",
   "pygments_lexer": "ipython3",
   "version": "3.8.2"
  },
  "metadata": {
   "interpreter": {
    "hash": "fd6d8b48720ee3455ab3ec1a10ac8371a015782a63fd20fa01169a0d41652e74"
   }
  },
  "orig_nbformat": 2
 },
 "nbformat": 4,
 "nbformat_minor": 2
}