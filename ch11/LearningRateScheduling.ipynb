{
 "cells": [
  {
   "cell_type": "markdown",
   "metadata": {},
   "source": [
    "# Learning Rate Scheduling"
   ]
  },
  {
   "cell_type": "markdown",
   "metadata": {},
   "source": [
    "## Toy Problem"
   ]
  },
  {
   "cell_type": "code",
   "execution_count": null,
   "metadata": {},
   "outputs": [],
   "source": [
    "import math\r\n",
    "import torch\r\n",
    "from torch import nn\r\n",
    "from torch.optim import lr_scheduler\r\n",
    "from d2l import torch as d2l"
   ]
  },
  {
   "cell_type": "code",
   "execution_count": null,
   "metadata": {},
   "outputs": [],
   "source": [
    "def net_fn():\r\n",
    "    class Reshape(nn.Module):\r\n",
    "        def forward(self, x):\r\n",
    "            return x.view(-1,1,28,28)\r\n",
    "\r\n",
    "    model = torch.nn.Sequential(\r\n",
    "        Reshape(),\r\n",
    "        nn.Conv2d(1, 6, kernel_size=5, padding=2), nn.ReLU(),\r\n",
    "        nn.MaxPool2d(kernel_size=2, stride=2),\r\n",
    "        nn.Conv2d(6, 16, kernel_size=5), nn.ReLU(),\r\n",
    "        nn.MaxPool2d(kernel_size=2, stride=2),\r\n",
    "        nn.Flatten(),\r\n",
    "        nn.Linear(16 * 5 * 5, 120), nn.ReLU(),\r\n",
    "        nn.Linear(120, 84), nn.ReLU(),\r\n",
    "        nn.Linear(84, 10))\r\n",
    "\r\n",
    "    return model\r\n"
   ]
  },
  {
   "cell_type": "code",
   "execution_count": null,
   "metadata": {},
   "outputs": [],
   "source": [
    "loss = nn.CrossEntropyLoss()\r\n",
    "device = d2l.try_gpu()\r\n",
    "\r\n",
    "batch_size = 64\r\n",
    "train_iter, test_iter = d2l.load_data_fashion_mnist(batch_size=batch_size)"
   ]
  },
  {
   "cell_type": "code",
   "execution_count": null,
   "metadata": {},
   "outputs": [],
   "source": [
    "\r\n",
    "\r\n",
    "def train(net, train_iter, test_iter, num_epochs, loss, optimizer, device, scheduler=None):\r\n",
    "    net.to(device)\r\n",
    "    animator = d2l.Animator(xlabel='epoch', xlim=[0, num_epochs], legend=['train loss', 'train acc', 'test acc'])\r\n",
    "\r\n",
    "    for epoch in range(num_epochs):\r\n",
    "        metric = d2l.Accumulator(3)  # train_loss, train_acc, num_examples\r\n",
    "        for i, (X, y) in enumerate(train_iter):\r\n",
    "            net.train()\r\n",
    "            trainer.zero_grad()\r\n",
    "            X, y = X.to(device), y.to(device)\r\n",
    "            y_hat = net(X)\r\n",
    "            l = loss(y_hat, y)\r\n",
    "            l.backward()\r\n",
    "            trainer.step()\r\n",
    "            with torch.no_grad():\r\n",
    "                metric.add(l * X.shape[0], d2l.accuracy(y_hat, y), X.shape[0])\r\n",
    "            train_loss = metric[0] / metric[2]\r\n",
    "            train_acc = metric[1] / metric[2]\r\n",
    "            if (i + 1) % 50 == 0:\r\n",
    "                animator.add(epoch + i / len(train_iter),\r\n",
    "                             (train_loss, train_acc, None))\r\n",
    "\r\n",
    "        test_acc = d2l.evaluate_accuracy_gpu(net, test_iter)\r\n",
    "        animator.add(epoch+1, (None, None, test_acc))\r\n",
    "\r\n",
    "        if scheduler:\r\n",
    "            if scheduler.__module__ == lr_scheduler.__name__:\r\n",
    "                # Using PyTorch In-Built scheduler\r\n",
    "                scheduler.step()\r\n",
    "            else:\r\n",
    "                # Using custom defined scheduler\r\n",
    "                for param_group in trainer.param_groups:\r\n",
    "                    param_group['lr'] = scheduler(epoch)\r\n",
    "\r\n",
    "    print(f'train loss {train_loss:.3f}, train acc {train_acc:.3f}, '\r\n",
    "          f'test acc {test_acc:.3f}')\r\n"
   ]
  },
  {
   "cell_type": "code",
   "execution_count": null,
   "metadata": {},
   "outputs": [],
   "source": [
    "lr, num_epochs = 0.01, 30\r\n",
    "net = net_fn()\r\n",
    "trainer = torch.optim.Adam(net.parameters(), lr=lr)\r\n",
    "train(net, train_iter, test_iter, num_epochs, loss, trainer, device)"
   ]
  },
  {
   "cell_type": "markdown",
   "metadata": {},
   "source": [
    "## Schedulers"
   ]
  },
  {
   "cell_type": "code",
   "execution_count": null,
   "metadata": {},
   "outputs": [],
   "source": [
    "lr = 0.1\r\n",
    "trainer.param_groups[0][\"lr\"] = lr\r\n",
    "print(f'learning rate is now {trainer.param_groups[0][\"lr\"]:.2f}')"
   ]
  },
  {
   "cell_type": "code",
   "execution_count": null,
   "metadata": {},
   "outputs": [],
   "source": [
    "class SquareRootScheduler:\r\n",
    "    def __init__(self, lr=0.1):\r\n",
    "        self.lr = lr\r\n",
    "\r\n",
    "    def __call__(self, num_update):\r\n",
    "        return self.lr * pow(num_update + 1.0, -0.5)"
   ]
  },
  {
   "cell_type": "code",
   "execution_count": null,
   "metadata": {},
   "outputs": [],
   "source": [
    "scheduler = SquareRootScheduler(lr=0.1)\r\n",
    "d2l.plot(torch.arange(num_epochs), [scheduler(t) for t in range(num_epochs)])"
   ]
  },
  {
   "cell_type": "code",
   "execution_count": null,
   "metadata": {},
   "outputs": [],
   "source": [
    "net = net_fn()\r\n",
    "trainer = torch.optim.SGD(net.parameters(), lr)\r\n",
    "train(net, train_iter, test_iter, num_epochs, loss, trainer, device,\r\n",
    "      scheduler)"
   ]
  },
  {
   "cell_type": "markdown",
   "metadata": {},
   "source": [
    "## Policies"
   ]
  },
  {
   "cell_type": "markdown",
   "metadata": {},
   "source": [
    "### Factor Scheduler"
   ]
  },
  {
   "cell_type": "code",
   "execution_count": null,
   "metadata": {},
   "outputs": [],
   "source": [
    "class FactorScheduler:\r\n",
    "    def __init__(self, factor=1, stop_factor_lr=1e-7, base_lr=0.1):\r\n",
    "        self.factor = factor\r\n",
    "        self.stop_factor_lr = stop_factor_lr\r\n",
    "        self.base_lr = base_lr\r\n",
    "\r\n",
    "    def __call__(self, num_update):\r\n",
    "        self.base_lr = max(self.stop_factor_lr, self.base_lr * self.factor)\r\n",
    "        return self.base_lr\r\n",
    "\r\n",
    "scheduler = FactorScheduler(factor=0.9, stop_factor_lr=1e-2, base_lr=2.0)\r\n",
    "d2l.plot(torch.arange(50), [scheduler(t) for t in range(50)])"
   ]
  },
  {
   "cell_type": "markdown",
   "metadata": {},
   "source": [
    "### Multi Factor Scheduler"
   ]
  },
  {
   "cell_type": "code",
   "execution_count": null,
   "metadata": {},
   "outputs": [],
   "source": [
    "net = net_fn()\r\n",
    "trainer = torch.optim.SGD(net.parameters(), lr=0.5)\r\n",
    "scheduler = lr_scheduler.MultiStepLR(trainer, milestones=[15, 30], gamma=0.5)\r\n",
    "\r\n",
    "def get_lr(trainer, scheduler):\r\n",
    "    lr = scheduler.get_last_lr()[0]\r\n",
    "    trainer.step()\r\n",
    "    scheduler.step()\r\n",
    "    return lr\r\n",
    "\r\n",
    "d2l.plot(torch.arange(num_epochs),\r\n",
    "         [get_lr(trainer, scheduler) for t in range(num_epochs)])"
   ]
  },
  {
   "cell_type": "code",
   "execution_count": null,
   "metadata": {},
   "outputs": [],
   "source": [
    "train(net, train_iter, test_iter, num_epochs, loss, trainer, device,\r\n",
    "      scheduler)"
   ]
  },
  {
   "cell_type": "markdown",
   "metadata": {},
   "source": [
    "### Cosine Scheduler"
   ]
  },
  {
   "cell_type": "code",
   "execution_count": null,
   "metadata": {},
   "outputs": [],
   "source": [
    "class CosineScheduler:\r\n",
    "    def __init__(self, max_update, base_lr=0.01, final_lr=0, warmup_steps=0,\r\n",
    "                 warmup_begin_lr=0):\r\n",
    "        self.base_lr_orig = base_lr\r\n",
    "        self.max_update = max_update\r\n",
    "        self.final_lr = final_lr\r\n",
    "        self.warmup_steps = warmup_steps\r\n",
    "        self.warmup_begin_lr = warmup_begin_lr\r\n",
    "        self.max_steps = self.max_update - self.warmup_steps\r\n",
    "\r\n",
    "    def get_warmup_lr(self, epoch):\r\n",
    "        increase = (self.base_lr_orig - self.warmup_begin_lr) \\\r\n",
    "                       * float(epoch) / float(self.warmup_steps)\r\n",
    "        return self.warmup_begin_lr + increase\r\n",
    "\r\n",
    "    def __call__(self, epoch):\r\n",
    "        if epoch < self.warmup_steps:\r\n",
    "            return self.get_warmup_lr(epoch)\r\n",
    "        if epoch <= self.max_update:\r\n",
    "            self.base_lr = self.final_lr + (\r\n",
    "                self.base_lr_orig - self.final_lr) * (1 + math.cos(\r\n",
    "                    math.pi *\r\n",
    "                    (epoch - self.warmup_steps) / self.max_steps)) / 2\r\n",
    "        return self.base_lr\r\n",
    "\r\n",
    "scheduler = CosineScheduler(max_update=20, base_lr=0.3, final_lr=0.01)\r\n",
    "d2l.plot(torch.arange(num_epochs), [scheduler(t) for t in range(num_epochs)])"
   ]
  },
  {
   "cell_type": "code",
   "execution_count": null,
   "metadata": {},
   "outputs": [],
   "source": [
    "net = net_fn()\r\n",
    "trainer = torch.optim.SGD(net.parameters(), lr=0.3)\r\n",
    "train(net, train_iter, test_iter, num_epochs, loss, trainer, device,\r\n",
    "      scheduler)"
   ]
  },
  {
   "cell_type": "markdown",
   "metadata": {},
   "source": [
    "### Warmup"
   ]
  },
  {
   "cell_type": "code",
   "execution_count": null,
   "metadata": {},
   "outputs": [],
   "source": [
    "scheduler = CosineScheduler(20, warmup_steps=5, base_lr=0.3, final_lr=0.01)\r\n",
    "d2l.plot(torch.arange(num_epochs), [scheduler(t) for t in range(num_epochs)])"
   ]
  },
  {
   "cell_type": "code",
   "execution_count": null,
   "metadata": {},
   "outputs": [],
   "source": [
    "net = net_fn()\r\n",
    "trainer = torch.optim.SGD(net.parameters(), lr=0.3)\r\n",
    "train(net, train_iter, test_iter, num_epochs, loss, trainer, device,\r\n",
    "      scheduler)"
   ]
  },
  {
   "cell_type": "code",
   "execution_count": null,
   "metadata": {},
   "outputs": [],
   "source": []
  }
 ],
 "metadata": {
  "kernelspec": {
   "display_name": "Python 3.8.2  ('venv': venv)",
   "name": "pythonjvsc74a57bd0fd6d8b48720ee3455ab3ec1a10ac8371a015782a63fd20fa01169a0d41652e74"
  },
  "language_info": {
   "codemirror_mode": {
    "name": "ipython",
    "version": 3
   },
   "file_extension": ".py",
   "mimetype": "text/x-python",
   "name": "python",
   "nbconvert_exporter": "python",
   "pygments_lexer": "ipython3",
   "version": "3.8.2"
  },
  "metadata": {
   "interpreter": {
    "hash": "fd6d8b48720ee3455ab3ec1a10ac8371a015782a63fd20fa01169a0d41652e74"
   }
  },
  "orig_nbformat": 2
 },
 "nbformat": 4,
 "nbformat_minor": 2
}