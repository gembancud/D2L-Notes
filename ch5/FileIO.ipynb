{
 "cells": [
  {
   "cell_type": "markdown",
   "metadata": {},
   "source": [
    "# File I/O"
   ]
  },
  {
   "cell_type": "markdown",
   "metadata": {},
   "source": [
    "## Loading and Saving Tensors"
   ]
  },
  {
   "cell_type": "code",
   "execution_count": 1,
   "metadata": {},
   "outputs": [],
   "source": [
    "import torch\r\n",
    "from torch import nn\r\n",
    "from torch.nn import functional as F"
   ]
  },
  {
   "cell_type": "code",
   "execution_count": 3,
   "metadata": {},
   "outputs": [],
   "source": [
    "x = torch.arange(4)\r\n",
    "torch.save(x, \"arange-4\")"
   ]
  },
  {
   "cell_type": "code",
   "execution_count": 5,
   "metadata": {},
   "outputs": [
    {
     "data": {
      "text/plain": "tensor([0, 1, 2, 3])"
     },
     "execution_count": 5,
     "metadata": {},
     "output_type": "execute_result"
    }
   ],
   "source": [
    "x2 = torch.load(\"arange-4\")\r\n",
    "x2"
   ]
  },
  {
   "cell_type": "code",
   "execution_count": 6,
   "metadata": {},
   "outputs": [],
   "source": [
    "y= torch.zeros(4)\r\n",
    "torch.save([x,y],\"xy\")"
   ]
  },
  {
   "cell_type": "code",
   "execution_count": 7,
   "metadata": {},
   "outputs": [
    {
     "data": {
      "text/plain": "[tensor([0, 1, 2, 3]), tensor([0., 0., 0., 0.])]"
     },
     "execution_count": 7,
     "metadata": {},
     "output_type": "execute_result"
    }
   ],
   "source": [
    "torch.load(\"xy\")"
   ]
  },
  {
   "cell_type": "code",
   "execution_count": 8,
   "metadata": {},
   "outputs": [],
   "source": [
    "mydict = {\"x\": x, \"y\": y}\r\n",
    "torch.save(mydict, \"xydict\")"
   ]
  },
  {
   "cell_type": "code",
   "execution_count": 10,
   "metadata": {},
   "outputs": [
    {
     "data": {
      "text/plain": "{'x': tensor([0, 1, 2, 3]), 'y': tensor([0., 0., 0., 0.])}"
     },
     "execution_count": 10,
     "metadata": {},
     "output_type": "execute_result"
    }
   ],
   "source": [
    "torch.load(\"xydict\")"
   ]
  },
  {
   "cell_type": "markdown",
   "metadata": {},
   "source": [
    "## Loading and Saving Model Parameters"
   ]
  },
  {
   "cell_type": "code",
   "execution_count": 11,
   "metadata": {},
   "outputs": [
    {
     "data": {
      "text/plain": "tensor([[ 0.0776,  0.1052,  0.0336, -0.0342,  0.4236,  0.0860, -0.0179, -0.0939,\n         -0.0709, -0.0778],\n        [ 0.2364,  0.0829,  0.0299,  0.0339,  0.1920,  0.0753, -0.0074, -0.1779,\n         -0.0821, -0.0153]], grad_fn=<AddmmBackward>)"
     },
     "execution_count": 11,
     "metadata": {},
     "output_type": "execute_result"
    }
   ],
   "source": [
    "class MLP(nn.Module):\r\n",
    "    def __init__(self):\r\n",
    "        super().__init__()\r\n",
    "        self.hidden = nn.Linear(20,256)\r\n",
    "        self.out = nn.Linear(256, 10)\r\n",
    "    \r\n",
    "    def forward(self, X):\r\n",
    "        return self.out(F.relu(self.hidden(X)))\r\n",
    "\r\n",
    "net = MLP()\r\n",
    "x = torch.rand(2,20)\r\n",
    "net(x)"
   ]
  },
  {
   "cell_type": "code",
   "execution_count": 15,
   "metadata": {},
   "outputs": [
    {
     "name": "stdout",
     "output_type": "stream",
     "text": [
      "hidden.weight torch.Size([256, 20])\n",
      "hidden.bias torch.Size([256])\n",
      "out.weight torch.Size([10, 256])\n",
      "out.bias torch.Size([10])\n"
     ]
    }
   ],
   "source": [
    "for name,block in net.named_parameters():\r\n",
    "    print(name, block.shape)"
   ]
  },
  {
   "cell_type": "code",
   "execution_count": 16,
   "metadata": {},
   "outputs": [],
   "source": [
    "torch.save(net.state_dict(), \"mlp.params\")"
   ]
  },
  {
   "cell_type": "code",
   "execution_count": 22,
   "metadata": {},
   "outputs": [
    {
     "data": {
      "text/plain": "tensor([[ 0.0776,  0.1052,  0.0336, -0.0342,  0.4236,  0.0860, -0.0179, -0.0939,\n         -0.0709, -0.0778],\n        [ 0.2364,  0.0829,  0.0299,  0.0339,  0.1920,  0.0753, -0.0074, -0.1779,\n         -0.0821, -0.0153]], grad_fn=<AddmmBackward>)"
     },
     "execution_count": 22,
     "metadata": {},
     "output_type": "execute_result"
    }
   ],
   "source": [
    "clone = MLP()\r\n",
    "clone.load_state_dict(torch.load(\"mlp.params\"))\r\n",
    "clone(x)"
   ]
  },
  {
   "cell_type": "code",
   "execution_count": 23,
   "metadata": {},
   "outputs": [
    {
     "data": {
      "text/plain": "tensor([[ 0.0776,  0.1052,  0.0336, -0.0342,  0.4236,  0.0860, -0.0179, -0.0939,\n         -0.0709, -0.0778],\n        [ 0.2364,  0.0829,  0.0299,  0.0339,  0.1920,  0.0753, -0.0074, -0.1779,\n         -0.0821, -0.0153]], grad_fn=<AddmmBackward>)"
     },
     "execution_count": 23,
     "metadata": {},
     "output_type": "execute_result"
    }
   ],
   "source": [
    "torch.save(net.hidden.state_dict(),\"mlp-hidden.params\")\r\n",
    "torch.save(net.out.state_dict(),\"mlp-out.params\")\r\n",
    "\r\n",
    "clone2 = MLP()\r\n",
    "clone2.hidden.load_state_dict(torch.load(\"mlp-hidden.params\"))\r\n",
    "clone2.out.load_state_dict(torch.load(\"mlp-out.params\"))\r\n",
    "clone2(x)"
   ]
  },
  {
   "cell_type": "code",
   "execution_count": null,
   "metadata": {},
   "outputs": [],
   "source": []
  }
 ],
 "metadata": {
  "kernelspec": {
   "display_name": "Python 3.8.2  ('venv': venv)",
   "name": "pythonjvsc74a57bd0fd6d8b48720ee3455ab3ec1a10ac8371a015782a63fd20fa01169a0d41652e74"
  },
  "language_info": {
   "codemirror_mode": {
    "name": "ipython",
    "version": 3
   },
   "file_extension": ".py",
   "mimetype": "text/x-python",
   "name": "python",
   "nbconvert_exporter": "python",
   "pygments_lexer": "ipython3",
   "version": "3.8.2"
  },
  "metadata": {
   "interpreter": {
    "hash": "fd6d8b48720ee3455ab3ec1a10ac8371a015782a63fd20fa01169a0d41652e74"
   }
  },
  "orig_nbformat": 2
 },
 "nbformat": 4,
 "nbformat_minor": 2
}